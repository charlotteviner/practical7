{
 "cells": [
  {
   "cell_type": "code",
   "execution_count": 55,
   "metadata": {
    "collapsed": true
   },
   "outputs": [],
   "source": [
    "import pandas\n",
    "\n",
    "%matplotlib inline\n",
    "import matplotlib.pyplot as plt"
   ]
  },
  {
   "cell_type": "code",
   "execution_count": 2,
   "metadata": {},
   "outputs": [
    {
     "name": "stdout",
     "output_type": "stream",
     "text": [
      "       country  gdpPercap_1952  gdpPercap_1957  gdpPercap_1962  \\\n",
      "0    Australia     10039.59564     10949.64959     12217.22686   \n",
      "1  New Zealand     10556.57566     12247.39532     13175.67800   \n",
      "\n",
      "   gdpPercap_1967  gdpPercap_1972  gdpPercap_1977  gdpPercap_1982  \\\n",
      "0     14526.12465     16788.62948     18334.19751     19477.00928   \n",
      "1     14463.91893     16046.03728     16233.71770     17632.41040   \n",
      "\n",
      "   gdpPercap_1987  gdpPercap_1992  gdpPercap_1997  gdpPercap_2002  \\\n",
      "0     21888.88903     23424.76683     26997.93657     30687.75473   \n",
      "1     19007.19129     18363.32494     21050.41377     23189.80135   \n",
      "\n",
      "   gdpPercap_2007  \n",
      "0     34435.36744  \n",
      "1     25185.00911  \n"
     ]
    }
   ],
   "source": [
    "data = pandas.read_csv('data/gapminder_gdp_oceania.csv')\n",
    "print(data)"
   ]
  },
  {
   "cell_type": "code",
   "execution_count": 3,
   "metadata": {},
   "outputs": [
    {
     "name": "stdout",
     "output_type": "stream",
     "text": [
      "             gdpPercap_1952  gdpPercap_1957  gdpPercap_1962  gdpPercap_1967  \\\n",
      "country                                                                       \n",
      "Australia       10039.59564     10949.64959     12217.22686     14526.12465   \n",
      "New Zealand     10556.57566     12247.39532     13175.67800     14463.91893   \n",
      "\n",
      "             gdpPercap_1972  gdpPercap_1977  gdpPercap_1982  gdpPercap_1987  \\\n",
      "country                                                                       \n",
      "Australia       16788.62948     18334.19751     19477.00928     21888.88903   \n",
      "New Zealand     16046.03728     16233.71770     17632.41040     19007.19129   \n",
      "\n",
      "             gdpPercap_1992  gdpPercap_1997  gdpPercap_2002  gdpPercap_2007  \n",
      "country                                                                      \n",
      "Australia       23424.76683     26997.93657     30687.75473     34435.36744  \n",
      "New Zealand     18363.32494     21050.41377     23189.80135     25185.00911  \n"
     ]
    }
   ],
   "source": [
    "# Use index_col to specify that a column's values should be used as row headings.\n",
    "data = pandas.read_csv('data/gapminder_gdp_oceania.csv', index_col='country')\n",
    "print(data)"
   ]
  },
  {
   "cell_type": "code",
   "execution_count": 4,
   "metadata": {},
   "outputs": [
    {
     "name": "stdout",
     "output_type": "stream",
     "text": [
      "<class 'pandas.core.frame.DataFrame'>\n",
      "Index: 2 entries, Australia to New Zealand\n",
      "Data columns (total 12 columns):\n",
      "gdpPercap_1952    2 non-null float64\n",
      "gdpPercap_1957    2 non-null float64\n",
      "gdpPercap_1962    2 non-null float64\n",
      "gdpPercap_1967    2 non-null float64\n",
      "gdpPercap_1972    2 non-null float64\n",
      "gdpPercap_1977    2 non-null float64\n",
      "gdpPercap_1982    2 non-null float64\n",
      "gdpPercap_1987    2 non-null float64\n",
      "gdpPercap_1992    2 non-null float64\n",
      "gdpPercap_1997    2 non-null float64\n",
      "gdpPercap_2002    2 non-null float64\n",
      "gdpPercap_2007    2 non-null float64\n",
      "dtypes: float64(12)\n",
      "memory usage: 208.0+ bytes\n"
     ]
    }
   ],
   "source": [
    "# Use DataFrame.info to find out more about a dataframe.\n",
    "data.info()"
   ]
  },
  {
   "cell_type": "code",
   "execution_count": 5,
   "metadata": {},
   "outputs": [
    {
     "name": "stdout",
     "output_type": "stream",
     "text": [
      "Index(['gdpPercap_1952', 'gdpPercap_1957', 'gdpPercap_1962', 'gdpPercap_1967',\n",
      "       'gdpPercap_1972', 'gdpPercap_1977', 'gdpPercap_1982', 'gdpPercap_1987',\n",
      "       'gdpPercap_1992', 'gdpPercap_1997', 'gdpPercap_2002', 'gdpPercap_2007'],\n",
      "      dtype='object')\n"
     ]
    }
   ],
   "source": [
    "# The DataFrame.columns variable stores information about the dataframe's columns.\n",
    "print(data.columns)"
   ]
  },
  {
   "cell_type": "code",
   "execution_count": 6,
   "metadata": {},
   "outputs": [
    {
     "name": "stdout",
     "output_type": "stream",
     "text": [
      "country           Australia  New Zealand\n",
      "gdpPercap_1952  10039.59564  10556.57566\n",
      "gdpPercap_1957  10949.64959  12247.39532\n",
      "gdpPercap_1962  12217.22686  13175.67800\n",
      "gdpPercap_1967  14526.12465  14463.91893\n",
      "gdpPercap_1972  16788.62948  16046.03728\n",
      "gdpPercap_1977  18334.19751  16233.71770\n",
      "gdpPercap_1982  19477.00928  17632.41040\n",
      "gdpPercap_1987  21888.88903  19007.19129\n",
      "gdpPercap_1992  23424.76683  18363.32494\n",
      "gdpPercap_1997  26997.93657  21050.41377\n",
      "gdpPercap_2002  30687.75473  23189.80135\n",
      "gdpPercap_2007  34435.36744  25185.00911\n"
     ]
    }
   ],
   "source": [
    "# Use DataFrame.T to transpose a dataframe.\n",
    "print(data.T)"
   ]
  },
  {
   "cell_type": "code",
   "execution_count": 7,
   "metadata": {},
   "outputs": [
    {
     "name": "stdout",
     "output_type": "stream",
     "text": [
      "       gdpPercap_1952  gdpPercap_1957  gdpPercap_1962  gdpPercap_1967  \\\n",
      "count        2.000000        2.000000        2.000000        2.000000   \n",
      "mean     10298.085650    11598.522455    12696.452430    14495.021790   \n",
      "std        365.560078      917.644806      677.727301       43.986086   \n",
      "min      10039.595640    10949.649590    12217.226860    14463.918930   \n",
      "25%      10168.840645    11274.086022    12456.839645    14479.470360   \n",
      "50%      10298.085650    11598.522455    12696.452430    14495.021790   \n",
      "75%      10427.330655    11922.958888    12936.065215    14510.573220   \n",
      "max      10556.575660    12247.395320    13175.678000    14526.124650   \n",
      "\n",
      "       gdpPercap_1972  gdpPercap_1977  gdpPercap_1982  gdpPercap_1987  \\\n",
      "count         2.00000        2.000000        2.000000        2.000000   \n",
      "mean      16417.33338    17283.957605    18554.709840    20448.040160   \n",
      "std         525.09198     1485.263517     1304.328377     2037.668013   \n",
      "min       16046.03728    16233.717700    17632.410400    19007.191290   \n",
      "25%       16231.68533    16758.837652    18093.560120    19727.615725   \n",
      "50%       16417.33338    17283.957605    18554.709840    20448.040160   \n",
      "75%       16602.98143    17809.077557    19015.859560    21168.464595   \n",
      "max       16788.62948    18334.197510    19477.009280    21888.889030   \n",
      "\n",
      "       gdpPercap_1992  gdpPercap_1997  gdpPercap_2002  gdpPercap_2007  \n",
      "count        2.000000        2.000000        2.000000        2.000000  \n",
      "mean     20894.045885    24024.175170    26938.778040    29810.188275  \n",
      "std       3578.979883     4205.533703     5301.853680     6540.991104  \n",
      "min      18363.324940    21050.413770    23189.801350    25185.009110  \n",
      "25%      19628.685413    22537.294470    25064.289695    27497.598692  \n",
      "50%      20894.045885    24024.175170    26938.778040    29810.188275  \n",
      "75%      22159.406358    25511.055870    28813.266385    32122.777857  \n",
      "max      23424.766830    26997.936570    30687.754730    34435.367440  \n"
     ]
    }
   ],
   "source": [
    "# Use DataFrame.describe to get summary statistics about data.\n",
    "print(data.describe())\n",
    "# Only provides summary statistics of columns with numerical data.\n",
    "# Use include='all' to include non-numerical columns."
   ]
  },
  {
   "cell_type": "code",
   "execution_count": 9,
   "metadata": {},
   "outputs": [
    {
     "name": "stdout",
     "output_type": "stream",
     "text": [
      "<bound method NDFrame.describe of                     continent  gdpPercap_1952  gdpPercap_1957  gdpPercap_1962  \\\n",
      "country                                                                         \n",
      "Argentina            Americas     5911.315053     6856.856212     7133.166023   \n",
      "Bolivia              Americas     2677.326347     2127.686326     2180.972546   \n",
      "Brazil               Americas     2108.944355     2487.365989     3336.585802   \n",
      "Canada               Americas    11367.161120    12489.950060    13462.485550   \n",
      "Chile                Americas     3939.978789     4315.622723     4519.094331   \n",
      "Colombia             Americas     2144.115096     2323.805581     2492.351109   \n",
      "Costa Rica           Americas     2627.009471     2990.010802     3460.937025   \n",
      "Cuba                 Americas     5586.538780     6092.174359     5180.755910   \n",
      "Dominican Republic   Americas     1397.717137     1544.402995     1662.137359   \n",
      "Ecuador              Americas     3522.110717     3780.546651     4086.114078   \n",
      "El Salvador          Americas     3048.302900     3421.523218     3776.803627   \n",
      "Guatemala            Americas     2428.237769     2617.155967     2750.364446   \n",
      "Haiti                Americas     1840.366939     1726.887882     1796.589032   \n",
      "Honduras             Americas     2194.926204     2220.487682     2291.156835   \n",
      "Jamaica              Americas     2898.530881     4756.525781     5246.107524   \n",
      "Mexico               Americas     3478.125529     4131.546641     4581.609385   \n",
      "Nicaragua            Americas     3112.363948     3457.415947     3634.364406   \n",
      "Panama               Americas     2480.380334     2961.800905     3536.540301   \n",
      "Paraguay             Americas     1952.308701     2046.154706     2148.027146   \n",
      "Peru                 Americas     3758.523437     4245.256698     4957.037982   \n",
      "Puerto Rico          Americas     3081.959785     3907.156189     5108.344630   \n",
      "Trinidad and Tobago  Americas     3023.271928     4100.393400     4997.523971   \n",
      "United States        Americas    13990.482080    14847.127120    16173.145860   \n",
      "Uruguay              Americas     5716.766744     6150.772969     5603.357717   \n",
      "Venezuela            Americas     7689.799761     9802.466526     8422.974165   \n",
      "\n",
      "                     gdpPercap_1967  gdpPercap_1972  gdpPercap_1977  \\\n",
      "country                                                               \n",
      "Argentina               8052.953021     9443.038526    10079.026740   \n",
      "Bolivia                 2586.886053     2980.331339     3548.097832   \n",
      "Brazil                  3429.864357     4985.711467     6660.118654   \n",
      "Canada                 16076.588030    18970.570860    22090.883060   \n",
      "Chile                   5106.654313     5494.024437     4756.763836   \n",
      "Colombia                2678.729839     3264.660041     3815.807870   \n",
      "Costa Rica              4161.727834     5118.146939     5926.876967   \n",
      "Cuba                    5690.268015     5305.445256     6380.494966   \n",
      "Dominican Republic      1653.723003     2189.874499     2681.988900   \n",
      "Ecuador                 4579.074215     5280.994710     6679.623260   \n",
      "El Salvador             4358.595393     4520.246008     5138.922374   \n",
      "Guatemala               3242.531147     4031.408271     4879.992748   \n",
      "Haiti                   1452.057666     1654.456946     1874.298931   \n",
      "Honduras                2538.269358     2529.842345     3203.208066   \n",
      "Jamaica                 6124.703451     7433.889293     6650.195573   \n",
      "Mexico                  5754.733883     6809.406690     7674.929108   \n",
      "Nicaragua               4643.393534     4688.593267     5486.371089   \n",
      "Panama                  4421.009084     5364.249663     5351.912144   \n",
      "Paraguay                2299.376311     2523.337977     3248.373311   \n",
      "Peru                    5788.093330     5937.827283     6281.290855   \n",
      "Puerto Rico             6929.277714     9123.041742     9770.524921   \n",
      "Trinidad and Tobago     5621.368472     6619.551419     7899.554209   \n",
      "United States          19530.365570    21806.035940    24072.632130   \n",
      "Uruguay                 5444.619620     5703.408898     6504.339663   \n",
      "Venezuela               9541.474188    10505.259660    13143.950950   \n",
      "\n",
      "                     gdpPercap_1982  gdpPercap_1987  gdpPercap_1992  \\\n",
      "country                                                               \n",
      "Argentina               8997.897412     9139.671389     9308.418710   \n",
      "Bolivia                 3156.510452     2753.691490     2961.699694   \n",
      "Brazil                  7030.835878     7807.095818     6950.283021   \n",
      "Canada                 22898.792140    26626.515030    26342.884260   \n",
      "Chile                   5095.665738     5547.063754     7596.125964   \n",
      "Colombia                4397.575659     4903.219100     5444.648617   \n",
      "Costa Rica              5262.734751     5629.915318     6160.416317   \n",
      "Cuba                    7316.918107     7532.924763     5592.843963   \n",
      "Dominican Republic      2861.092386     2899.842175     3044.214214   \n",
      "Ecuador                 7213.791267     6481.776993     7103.702595   \n",
      "El Salvador             4098.344175     4140.442097     4444.231700   \n",
      "Guatemala               4820.494790     4246.485974     4439.450840   \n",
      "Haiti                   2011.159549     1823.015995     1456.309517   \n",
      "Honduras                3121.760794     3023.096699     3081.694603   \n",
      "Jamaica                 6068.051350     6351.237495     7404.923685   \n",
      "Mexico                  9611.147541     8688.156003     9472.384295   \n",
      "Nicaragua               3470.338156     2955.984375     2170.151724   \n",
      "Panama                  7009.601598     7034.779161     6618.743050   \n",
      "Paraguay                4258.503604     3998.875695     4196.411078   \n",
      "Peru                    6434.501797     6360.943444     4446.380924   \n",
      "Puerto Rico            10330.989150    12281.341910    14641.587110   \n",
      "Trinidad and Tobago     9119.528607     7388.597823     7370.990932   \n",
      "United States          25009.559140    29884.350410    32003.932240   \n",
      "Uruguay                 6920.223051     7452.398969     8137.004775   \n",
      "Venezuela              11152.410110     9883.584648    10733.926310   \n",
      "\n",
      "                     gdpPercap_1997  gdpPercap_2002  gdpPercap_2007  \n",
      "country                                                              \n",
      "Argentina              10967.281950     8797.640716    12779.379640  \n",
      "Bolivia                 3326.143191     3413.262690     3822.137084  \n",
      "Brazil                  7957.980824     8131.212843     9065.800825  \n",
      "Canada                 28954.925890    33328.965070    36319.235010  \n",
      "Chile                  10118.053180    10778.783850    13171.638850  \n",
      "Colombia                6117.361746     5755.259962     7006.580419  \n",
      "Costa Rica              6677.045314     7723.447195     9645.061420  \n",
      "Cuba                    5431.990415     6340.646683     8948.102923  \n",
      "Dominican Republic      3614.101285     4563.808154     6025.374752  \n",
      "Ecuador                 7429.455877     5773.044512     6873.262326  \n",
      "El Salvador             5154.825496     5351.568666     5728.353514  \n",
      "Guatemala               4684.313807     4858.347495     5186.050003  \n",
      "Haiti                   1341.726931     1270.364932     1201.637154  \n",
      "Honduras                3160.454906     3099.728660     3548.330846  \n",
      "Jamaica                 7121.924704     6994.774861     7320.880262  \n",
      "Mexico                  9767.297530    10742.440530    11977.574960  \n",
      "Nicaragua               2253.023004     2474.548819     2749.320965  \n",
      "Panama                  7113.692252     7356.031934     9809.185636  \n",
      "Paraguay                4247.400261     3783.674243     4172.838464  \n",
      "Peru                    5838.347657     5909.020073     7408.905561  \n",
      "Puerto Rico            16999.433300    18855.606180    19328.709010  \n",
      "Trinidad and Tobago     8792.573126    11460.600230    18008.509240  \n",
      "United States          35767.433030    39097.099550    42951.653090  \n",
      "Uruguay                 9230.240708     7727.002004    10611.462990  \n",
      "Venezuela              10165.495180     8605.047831    11415.805690  >\n"
     ]
    }
   ],
   "source": [
    "americas = pandas.read_csv('data/gapminder_gdp_americas.csv', index_col='country')\n",
    "print(americas.describe)"
   ]
  },
  {
   "cell_type": "code",
   "execution_count": 10,
   "metadata": {},
   "outputs": [
    {
     "name": "stdout",
     "output_type": "stream",
     "text": [
      "Help on method head in module pandas.core.generic:\n",
      "\n",
      "head(n=5) method of pandas.core.frame.DataFrame instance\n",
      "    Returns first n rows\n",
      "\n"
     ]
    }
   ],
   "source": [
    "help(americas.head)"
   ]
  },
  {
   "cell_type": "code",
   "execution_count": 11,
   "metadata": {},
   "outputs": [
    {
     "name": "stdout",
     "output_type": "stream",
     "text": [
      "Help on method tail in module pandas.core.generic:\n",
      "\n",
      "tail(n=5) method of pandas.core.frame.DataFrame instance\n",
      "    Returns last n rows\n",
      "\n"
     ]
    }
   ],
   "source": [
    "help(americas.tail)"
   ]
  },
  {
   "cell_type": "code",
   "execution_count": 12,
   "metadata": {},
   "outputs": [
    {
     "data": {
      "text/html": [
       "<div>\n",
       "<style>\n",
       "    .dataframe thead tr:only-child th {\n",
       "        text-align: right;\n",
       "    }\n",
       "\n",
       "    .dataframe thead th {\n",
       "        text-align: left;\n",
       "    }\n",
       "\n",
       "    .dataframe tbody tr th {\n",
       "        vertical-align: top;\n",
       "    }\n",
       "</style>\n",
       "<table border=\"1\" class=\"dataframe\">\n",
       "  <thead>\n",
       "    <tr style=\"text-align: right;\">\n",
       "      <th></th>\n",
       "      <th>continent</th>\n",
       "      <th>gdpPercap_1952</th>\n",
       "      <th>gdpPercap_1957</th>\n",
       "      <th>gdpPercap_1962</th>\n",
       "      <th>gdpPercap_1967</th>\n",
       "      <th>gdpPercap_1972</th>\n",
       "      <th>gdpPercap_1977</th>\n",
       "      <th>gdpPercap_1982</th>\n",
       "      <th>gdpPercap_1987</th>\n",
       "      <th>gdpPercap_1992</th>\n",
       "      <th>gdpPercap_1997</th>\n",
       "      <th>gdpPercap_2002</th>\n",
       "      <th>gdpPercap_2007</th>\n",
       "    </tr>\n",
       "    <tr>\n",
       "      <th>country</th>\n",
       "      <th></th>\n",
       "      <th></th>\n",
       "      <th></th>\n",
       "      <th></th>\n",
       "      <th></th>\n",
       "      <th></th>\n",
       "      <th></th>\n",
       "      <th></th>\n",
       "      <th></th>\n",
       "      <th></th>\n",
       "      <th></th>\n",
       "      <th></th>\n",
       "      <th></th>\n",
       "    </tr>\n",
       "  </thead>\n",
       "  <tbody>\n",
       "    <tr>\n",
       "      <th>Argentina</th>\n",
       "      <td>Americas</td>\n",
       "      <td>5911.315053</td>\n",
       "      <td>6856.856212</td>\n",
       "      <td>7133.166023</td>\n",
       "      <td>8052.953021</td>\n",
       "      <td>9443.038526</td>\n",
       "      <td>10079.026740</td>\n",
       "      <td>8997.897412</td>\n",
       "      <td>9139.671389</td>\n",
       "      <td>9308.418710</td>\n",
       "      <td>10967.281950</td>\n",
       "      <td>8797.640716</td>\n",
       "      <td>12779.379640</td>\n",
       "    </tr>\n",
       "    <tr>\n",
       "      <th>Bolivia</th>\n",
       "      <td>Americas</td>\n",
       "      <td>2677.326347</td>\n",
       "      <td>2127.686326</td>\n",
       "      <td>2180.972546</td>\n",
       "      <td>2586.886053</td>\n",
       "      <td>2980.331339</td>\n",
       "      <td>3548.097832</td>\n",
       "      <td>3156.510452</td>\n",
       "      <td>2753.691490</td>\n",
       "      <td>2961.699694</td>\n",
       "      <td>3326.143191</td>\n",
       "      <td>3413.262690</td>\n",
       "      <td>3822.137084</td>\n",
       "    </tr>\n",
       "    <tr>\n",
       "      <th>Brazil</th>\n",
       "      <td>Americas</td>\n",
       "      <td>2108.944355</td>\n",
       "      <td>2487.365989</td>\n",
       "      <td>3336.585802</td>\n",
       "      <td>3429.864357</td>\n",
       "      <td>4985.711467</td>\n",
       "      <td>6660.118654</td>\n",
       "      <td>7030.835878</td>\n",
       "      <td>7807.095818</td>\n",
       "      <td>6950.283021</td>\n",
       "      <td>7957.980824</td>\n",
       "      <td>8131.212843</td>\n",
       "      <td>9065.800825</td>\n",
       "    </tr>\n",
       "  </tbody>\n",
       "</table>\n",
       "</div>"
      ],
      "text/plain": [
       "          continent  gdpPercap_1952  gdpPercap_1957  gdpPercap_1962  \\\n",
       "country                                                               \n",
       "Argentina  Americas     5911.315053     6856.856212     7133.166023   \n",
       "Bolivia    Americas     2677.326347     2127.686326     2180.972546   \n",
       "Brazil     Americas     2108.944355     2487.365989     3336.585802   \n",
       "\n",
       "           gdpPercap_1967  gdpPercap_1972  gdpPercap_1977  gdpPercap_1982  \\\n",
       "country                                                                     \n",
       "Argentina     8052.953021     9443.038526    10079.026740     8997.897412   \n",
       "Bolivia       2586.886053     2980.331339     3548.097832     3156.510452   \n",
       "Brazil        3429.864357     4985.711467     6660.118654     7030.835878   \n",
       "\n",
       "           gdpPercap_1987  gdpPercap_1992  gdpPercap_1997  gdpPercap_2002  \\\n",
       "country                                                                     \n",
       "Argentina     9139.671389     9308.418710    10967.281950     8797.640716   \n",
       "Bolivia       2753.691490     2961.699694     3326.143191     3413.262690   \n",
       "Brazil        7807.095818     6950.283021     7957.980824     8131.212843   \n",
       "\n",
       "           gdpPercap_2007  \n",
       "country                    \n",
       "Argentina    12779.379640  \n",
       "Bolivia       3822.137084  \n",
       "Brazil        9065.800825  "
      ]
     },
     "execution_count": 12,
     "metadata": {},
     "output_type": "execute_result"
    }
   ],
   "source": [
    "# Display first three rows of this data.\n",
    "americas.head(n=3)"
   ]
  },
  {
   "cell_type": "code",
   "execution_count": 13,
   "metadata": {},
   "outputs": [
    {
     "data": {
      "text/html": [
       "<div>\n",
       "<style>\n",
       "    .dataframe thead tr:only-child th {\n",
       "        text-align: right;\n",
       "    }\n",
       "\n",
       "    .dataframe thead th {\n",
       "        text-align: left;\n",
       "    }\n",
       "\n",
       "    .dataframe tbody tr th {\n",
       "        vertical-align: top;\n",
       "    }\n",
       "</style>\n",
       "<table border=\"1\" class=\"dataframe\">\n",
       "  <thead>\n",
       "    <tr style=\"text-align: right;\">\n",
       "      <th></th>\n",
       "      <th>continent</th>\n",
       "      <th>gdpPercap_1952</th>\n",
       "      <th>gdpPercap_1957</th>\n",
       "      <th>gdpPercap_1962</th>\n",
       "      <th>gdpPercap_1967</th>\n",
       "      <th>gdpPercap_1972</th>\n",
       "      <th>gdpPercap_1977</th>\n",
       "      <th>gdpPercap_1982</th>\n",
       "      <th>gdpPercap_1987</th>\n",
       "      <th>gdpPercap_1992</th>\n",
       "      <th>gdpPercap_1997</th>\n",
       "      <th>gdpPercap_2002</th>\n",
       "      <th>gdpPercap_2007</th>\n",
       "    </tr>\n",
       "    <tr>\n",
       "      <th>country</th>\n",
       "      <th></th>\n",
       "      <th></th>\n",
       "      <th></th>\n",
       "      <th></th>\n",
       "      <th></th>\n",
       "      <th></th>\n",
       "      <th></th>\n",
       "      <th></th>\n",
       "      <th></th>\n",
       "      <th></th>\n",
       "      <th></th>\n",
       "      <th></th>\n",
       "      <th></th>\n",
       "    </tr>\n",
       "  </thead>\n",
       "  <tbody>\n",
       "    <tr>\n",
       "      <th>United States</th>\n",
       "      <td>Americas</td>\n",
       "      <td>13990.482080</td>\n",
       "      <td>14847.127120</td>\n",
       "      <td>16173.145860</td>\n",
       "      <td>19530.365570</td>\n",
       "      <td>21806.035940</td>\n",
       "      <td>24072.632130</td>\n",
       "      <td>25009.559140</td>\n",
       "      <td>29884.350410</td>\n",
       "      <td>32003.932240</td>\n",
       "      <td>35767.433030</td>\n",
       "      <td>39097.099550</td>\n",
       "      <td>42951.65309</td>\n",
       "    </tr>\n",
       "    <tr>\n",
       "      <th>Uruguay</th>\n",
       "      <td>Americas</td>\n",
       "      <td>5716.766744</td>\n",
       "      <td>6150.772969</td>\n",
       "      <td>5603.357717</td>\n",
       "      <td>5444.619620</td>\n",
       "      <td>5703.408898</td>\n",
       "      <td>6504.339663</td>\n",
       "      <td>6920.223051</td>\n",
       "      <td>7452.398969</td>\n",
       "      <td>8137.004775</td>\n",
       "      <td>9230.240708</td>\n",
       "      <td>7727.002004</td>\n",
       "      <td>10611.46299</td>\n",
       "    </tr>\n",
       "    <tr>\n",
       "      <th>Venezuela</th>\n",
       "      <td>Americas</td>\n",
       "      <td>7689.799761</td>\n",
       "      <td>9802.466526</td>\n",
       "      <td>8422.974165</td>\n",
       "      <td>9541.474188</td>\n",
       "      <td>10505.259660</td>\n",
       "      <td>13143.950950</td>\n",
       "      <td>11152.410110</td>\n",
       "      <td>9883.584648</td>\n",
       "      <td>10733.926310</td>\n",
       "      <td>10165.495180</td>\n",
       "      <td>8605.047831</td>\n",
       "      <td>11415.80569</td>\n",
       "    </tr>\n",
       "  </tbody>\n",
       "</table>\n",
       "</div>"
      ],
      "text/plain": [
       "              continent  gdpPercap_1952  gdpPercap_1957  gdpPercap_1962  \\\n",
       "country                                                                   \n",
       "United States  Americas    13990.482080    14847.127120    16173.145860   \n",
       "Uruguay        Americas     5716.766744     6150.772969     5603.357717   \n",
       "Venezuela      Americas     7689.799761     9802.466526     8422.974165   \n",
       "\n",
       "               gdpPercap_1967  gdpPercap_1972  gdpPercap_1977  gdpPercap_1982  \\\n",
       "country                                                                         \n",
       "United States    19530.365570    21806.035940    24072.632130    25009.559140   \n",
       "Uruguay           5444.619620     5703.408898     6504.339663     6920.223051   \n",
       "Venezuela         9541.474188    10505.259660    13143.950950    11152.410110   \n",
       "\n",
       "               gdpPercap_1987  gdpPercap_1992  gdpPercap_1997  gdpPercap_2002  \\\n",
       "country                                                                         \n",
       "United States    29884.350410    32003.932240    35767.433030    39097.099550   \n",
       "Uruguay           7452.398969     8137.004775     9230.240708     7727.002004   \n",
       "Venezuela         9883.584648    10733.926310    10165.495180     8605.047831   \n",
       "\n",
       "               gdpPercap_2007  \n",
       "country                        \n",
       "United States     42951.65309  \n",
       "Uruguay           10611.46299  \n",
       "Venezuela         11415.80569  "
      ]
     },
     "execution_count": 13,
     "metadata": {},
     "output_type": "execute_result"
    }
   ],
   "source": [
    "# Display last three rows of this data.\n",
    "americas.tail(n=3)"
   ]
  },
  {
   "cell_type": "code",
   "execution_count": 15,
   "metadata": {},
   "outputs": [
    {
     "data": {
      "text/html": [
       "<div>\n",
       "<style>\n",
       "    .dataframe thead tr:only-child th {\n",
       "        text-align: right;\n",
       "    }\n",
       "\n",
       "    .dataframe thead th {\n",
       "        text-align: left;\n",
       "    }\n",
       "\n",
       "    .dataframe tbody tr th {\n",
       "        vertical-align: top;\n",
       "    }\n",
       "</style>\n",
       "<table border=\"1\" class=\"dataframe\">\n",
       "  <thead>\n",
       "    <tr style=\"text-align: right;\">\n",
       "      <th>country</th>\n",
       "      <th>Argentina</th>\n",
       "      <th>Bolivia</th>\n",
       "      <th>Brazil</th>\n",
       "      <th>Canada</th>\n",
       "      <th>Chile</th>\n",
       "      <th>Colombia</th>\n",
       "      <th>Costa Rica</th>\n",
       "      <th>Cuba</th>\n",
       "      <th>Dominican Republic</th>\n",
       "      <th>Ecuador</th>\n",
       "      <th>...</th>\n",
       "      <th>Mexico</th>\n",
       "      <th>Nicaragua</th>\n",
       "      <th>Panama</th>\n",
       "      <th>Paraguay</th>\n",
       "      <th>Peru</th>\n",
       "      <th>Puerto Rico</th>\n",
       "      <th>Trinidad and Tobago</th>\n",
       "      <th>United States</th>\n",
       "      <th>Uruguay</th>\n",
       "      <th>Venezuela</th>\n",
       "    </tr>\n",
       "  </thead>\n",
       "  <tbody>\n",
       "    <tr>\n",
       "      <th>gdpPercap_1997</th>\n",
       "      <td>10967.3</td>\n",
       "      <td>3326.14</td>\n",
       "      <td>7957.98</td>\n",
       "      <td>28954.9</td>\n",
       "      <td>10118.1</td>\n",
       "      <td>6117.36</td>\n",
       "      <td>6677.05</td>\n",
       "      <td>5431.99</td>\n",
       "      <td>3614.1</td>\n",
       "      <td>7429.46</td>\n",
       "      <td>...</td>\n",
       "      <td>9767.3</td>\n",
       "      <td>2253.02</td>\n",
       "      <td>7113.69</td>\n",
       "      <td>4247.4</td>\n",
       "      <td>5838.35</td>\n",
       "      <td>16999.4</td>\n",
       "      <td>8792.57</td>\n",
       "      <td>35767.4</td>\n",
       "      <td>9230.24</td>\n",
       "      <td>10165.5</td>\n",
       "    </tr>\n",
       "    <tr>\n",
       "      <th>gdpPercap_2002</th>\n",
       "      <td>8797.64</td>\n",
       "      <td>3413.26</td>\n",
       "      <td>8131.21</td>\n",
       "      <td>33329</td>\n",
       "      <td>10778.8</td>\n",
       "      <td>5755.26</td>\n",
       "      <td>7723.45</td>\n",
       "      <td>6340.65</td>\n",
       "      <td>4563.81</td>\n",
       "      <td>5773.04</td>\n",
       "      <td>...</td>\n",
       "      <td>10742.4</td>\n",
       "      <td>2474.55</td>\n",
       "      <td>7356.03</td>\n",
       "      <td>3783.67</td>\n",
       "      <td>5909.02</td>\n",
       "      <td>18855.6</td>\n",
       "      <td>11460.6</td>\n",
       "      <td>39097.1</td>\n",
       "      <td>7727</td>\n",
       "      <td>8605.05</td>\n",
       "    </tr>\n",
       "    <tr>\n",
       "      <th>gdpPercap_2007</th>\n",
       "      <td>12779.4</td>\n",
       "      <td>3822.14</td>\n",
       "      <td>9065.8</td>\n",
       "      <td>36319.2</td>\n",
       "      <td>13171.6</td>\n",
       "      <td>7006.58</td>\n",
       "      <td>9645.06</td>\n",
       "      <td>8948.1</td>\n",
       "      <td>6025.37</td>\n",
       "      <td>6873.26</td>\n",
       "      <td>...</td>\n",
       "      <td>11977.6</td>\n",
       "      <td>2749.32</td>\n",
       "      <td>9809.19</td>\n",
       "      <td>4172.84</td>\n",
       "      <td>7408.91</td>\n",
       "      <td>19328.7</td>\n",
       "      <td>18008.5</td>\n",
       "      <td>42951.7</td>\n",
       "      <td>10611.5</td>\n",
       "      <td>11415.8</td>\n",
       "    </tr>\n",
       "  </tbody>\n",
       "</table>\n",
       "<p>3 rows × 25 columns</p>\n",
       "</div>"
      ],
      "text/plain": [
       "country        Argentina  Bolivia   Brazil   Canada    Chile Colombia  \\\n",
       "gdpPercap_1997   10967.3  3326.14  7957.98  28954.9  10118.1  6117.36   \n",
       "gdpPercap_2002   8797.64  3413.26  8131.21    33329  10778.8  5755.26   \n",
       "gdpPercap_2007   12779.4  3822.14   9065.8  36319.2  13171.6  7006.58   \n",
       "\n",
       "country        Costa Rica     Cuba Dominican Republic  Ecuador    ...     \\\n",
       "gdpPercap_1997    6677.05  5431.99             3614.1  7429.46    ...      \n",
       "gdpPercap_2002    7723.45  6340.65            4563.81  5773.04    ...      \n",
       "gdpPercap_2007    9645.06   8948.1            6025.37  6873.26    ...      \n",
       "\n",
       "country          Mexico Nicaragua   Panama Paraguay     Peru Puerto Rico  \\\n",
       "gdpPercap_1997   9767.3   2253.02  7113.69   4247.4  5838.35     16999.4   \n",
       "gdpPercap_2002  10742.4   2474.55  7356.03  3783.67  5909.02     18855.6   \n",
       "gdpPercap_2007  11977.6   2749.32  9809.19  4172.84  7408.91     19328.7   \n",
       "\n",
       "country        Trinidad and Tobago United States  Uruguay Venezuela  \n",
       "gdpPercap_1997             8792.57       35767.4  9230.24   10165.5  \n",
       "gdpPercap_2002             11460.6       39097.1     7727   8605.05  \n",
       "gdpPercap_2007             18008.5       42951.7  10611.5   11415.8  \n",
       "\n",
       "[3 rows x 25 columns]"
      ]
     },
     "execution_count": 15,
     "metadata": {},
     "output_type": "execute_result"
    }
   ],
   "source": [
    "# Display the last three columns of this data.\n",
    "americas_flipped = americas.T # Transpose the table.\n",
    "americas_flipped.tail(n=3)"
   ]
  },
  {
   "cell_type": "code",
   "execution_count": 16,
   "metadata": {},
   "outputs": [
    {
     "data": {
      "text/html": [
       "<div>\n",
       "<style>\n",
       "    .dataframe thead tr:only-child th {\n",
       "        text-align: right;\n",
       "    }\n",
       "\n",
       "    .dataframe thead th {\n",
       "        text-align: left;\n",
       "    }\n",
       "\n",
       "    .dataframe tbody tr th {\n",
       "        vertical-align: top;\n",
       "    }\n",
       "</style>\n",
       "<table border=\"1\" class=\"dataframe\">\n",
       "  <thead>\n",
       "    <tr style=\"text-align: right;\">\n",
       "      <th>country</th>\n",
       "      <th>Argentina</th>\n",
       "      <th>Bolivia</th>\n",
       "      <th>Brazil</th>\n",
       "      <th>Canada</th>\n",
       "      <th>Chile</th>\n",
       "      <th>Colombia</th>\n",
       "      <th>Costa Rica</th>\n",
       "      <th>Cuba</th>\n",
       "      <th>Dominican Republic</th>\n",
       "      <th>Ecuador</th>\n",
       "      <th>...</th>\n",
       "      <th>Mexico</th>\n",
       "      <th>Nicaragua</th>\n",
       "      <th>Panama</th>\n",
       "      <th>Paraguay</th>\n",
       "      <th>Peru</th>\n",
       "      <th>Puerto Rico</th>\n",
       "      <th>Trinidad and Tobago</th>\n",
       "      <th>United States</th>\n",
       "      <th>Uruguay</th>\n",
       "      <th>Venezuela</th>\n",
       "    </tr>\n",
       "  </thead>\n",
       "  <tbody>\n",
       "    <tr>\n",
       "      <th>gdpPercap_1997</th>\n",
       "      <td>10967.3</td>\n",
       "      <td>3326.14</td>\n",
       "      <td>7957.98</td>\n",
       "      <td>28954.9</td>\n",
       "      <td>10118.1</td>\n",
       "      <td>6117.36</td>\n",
       "      <td>6677.05</td>\n",
       "      <td>5431.99</td>\n",
       "      <td>3614.1</td>\n",
       "      <td>7429.46</td>\n",
       "      <td>...</td>\n",
       "      <td>9767.3</td>\n",
       "      <td>2253.02</td>\n",
       "      <td>7113.69</td>\n",
       "      <td>4247.4</td>\n",
       "      <td>5838.35</td>\n",
       "      <td>16999.4</td>\n",
       "      <td>8792.57</td>\n",
       "      <td>35767.4</td>\n",
       "      <td>9230.24</td>\n",
       "      <td>10165.5</td>\n",
       "    </tr>\n",
       "    <tr>\n",
       "      <th>gdpPercap_2002</th>\n",
       "      <td>8797.64</td>\n",
       "      <td>3413.26</td>\n",
       "      <td>8131.21</td>\n",
       "      <td>33329</td>\n",
       "      <td>10778.8</td>\n",
       "      <td>5755.26</td>\n",
       "      <td>7723.45</td>\n",
       "      <td>6340.65</td>\n",
       "      <td>4563.81</td>\n",
       "      <td>5773.04</td>\n",
       "      <td>...</td>\n",
       "      <td>10742.4</td>\n",
       "      <td>2474.55</td>\n",
       "      <td>7356.03</td>\n",
       "      <td>3783.67</td>\n",
       "      <td>5909.02</td>\n",
       "      <td>18855.6</td>\n",
       "      <td>11460.6</td>\n",
       "      <td>39097.1</td>\n",
       "      <td>7727</td>\n",
       "      <td>8605.05</td>\n",
       "    </tr>\n",
       "    <tr>\n",
       "      <th>gdpPercap_2007</th>\n",
       "      <td>12779.4</td>\n",
       "      <td>3822.14</td>\n",
       "      <td>9065.8</td>\n",
       "      <td>36319.2</td>\n",
       "      <td>13171.6</td>\n",
       "      <td>7006.58</td>\n",
       "      <td>9645.06</td>\n",
       "      <td>8948.1</td>\n",
       "      <td>6025.37</td>\n",
       "      <td>6873.26</td>\n",
       "      <td>...</td>\n",
       "      <td>11977.6</td>\n",
       "      <td>2749.32</td>\n",
       "      <td>9809.19</td>\n",
       "      <td>4172.84</td>\n",
       "      <td>7408.91</td>\n",
       "      <td>19328.7</td>\n",
       "      <td>18008.5</td>\n",
       "      <td>42951.7</td>\n",
       "      <td>10611.5</td>\n",
       "      <td>11415.8</td>\n",
       "    </tr>\n",
       "  </tbody>\n",
       "</table>\n",
       "<p>3 rows × 25 columns</p>\n",
       "</div>"
      ],
      "text/plain": [
       "country        Argentina  Bolivia   Brazil   Canada    Chile Colombia  \\\n",
       "gdpPercap_1997   10967.3  3326.14  7957.98  28954.9  10118.1  6117.36   \n",
       "gdpPercap_2002   8797.64  3413.26  8131.21    33329  10778.8  5755.26   \n",
       "gdpPercap_2007   12779.4  3822.14   9065.8  36319.2  13171.6  7006.58   \n",
       "\n",
       "country        Costa Rica     Cuba Dominican Republic  Ecuador    ...     \\\n",
       "gdpPercap_1997    6677.05  5431.99             3614.1  7429.46    ...      \n",
       "gdpPercap_2002    7723.45  6340.65            4563.81  5773.04    ...      \n",
       "gdpPercap_2007    9645.06   8948.1            6025.37  6873.26    ...      \n",
       "\n",
       "country          Mexico Nicaragua   Panama Paraguay     Peru Puerto Rico  \\\n",
       "gdpPercap_1997   9767.3   2253.02  7113.69   4247.4  5838.35     16999.4   \n",
       "gdpPercap_2002  10742.4   2474.55  7356.03  3783.67  5909.02     18855.6   \n",
       "gdpPercap_2007  11977.6   2749.32  9809.19  4172.84  7408.91     19328.7   \n",
       "\n",
       "country        Trinidad and Tobago United States  Uruguay Venezuela  \n",
       "gdpPercap_1997             8792.57       35767.4  9230.24   10165.5  \n",
       "gdpPercap_2002             11460.6       39097.1     7727   8605.05  \n",
       "gdpPercap_2007             18008.5       42951.7  10611.5   11415.8  \n",
       "\n",
       "[3 rows x 25 columns]"
      ]
     },
     "execution_count": 16,
     "metadata": {},
     "output_type": "execute_result"
    }
   ],
   "source": [
    "# Can chain the commands into a single line of code.\n",
    "americas.T.tail(n=3)"
   ]
  },
  {
   "cell_type": "code",
   "execution_count": 19,
   "metadata": {},
   "outputs": [],
   "source": [
    "# Write the DataFrame americas to a file called processed.csv.\n",
    "americas.to_csv('processed.csv')"
   ]
  },
  {
   "cell_type": "code",
   "execution_count": 30,
   "metadata": {},
   "outputs": [
    {
     "name": "stdout",
     "output_type": "stream",
     "text": [
      "1601.056136\n"
     ]
    }
   ],
   "source": [
    "# Use DataFrame.iloc[..., ...] to select values by their (entry) position.\n",
    "data = pandas.read_csv('data/gapminder_gdp_europe.csv', index_col='country')\n",
    "print(data.iloc[0,0])"
   ]
  },
  {
   "cell_type": "code",
   "execution_count": 21,
   "metadata": {},
   "outputs": [
    {
     "name": "stdout",
     "output_type": "stream",
     "text": [
      "1601.056136\n"
     ]
    }
   ],
   "source": [
    "# Use DataFrame.loc[..., ...] to select values by their (entry) label.\n",
    "print(data.loc[\"Albania\", \"gdpPercap_1952\"])"
   ]
  },
  {
   "cell_type": "code",
   "execution_count": 22,
   "metadata": {},
   "outputs": [
    {
     "name": "stdout",
     "output_type": "stream",
     "text": [
      "gdpPercap_1952    1601.056136\n",
      "gdpPercap_1957    1942.284244\n",
      "gdpPercap_1962    2312.888958\n",
      "gdpPercap_1967    2760.196931\n",
      "gdpPercap_1972    3313.422188\n",
      "gdpPercap_1977    3533.003910\n",
      "gdpPercap_1982    3630.880722\n",
      "gdpPercap_1987    3738.932735\n",
      "gdpPercap_1992    2497.437901\n",
      "gdpPercap_1997    3193.054604\n",
      "gdpPercap_2002    4604.211737\n",
      "gdpPercap_2007    5937.029526\n",
      "Name: Albania, dtype: float64\n"
     ]
    }
   ],
   "source": [
    "# Use : on its own to mean all columns or all rows.\n",
    "print(data.loc[\"Albania\", :])\n",
    "# Would get the same result printing data.loc[\"Albania\"]."
   ]
  },
  {
   "cell_type": "code",
   "execution_count": 23,
   "metadata": {},
   "outputs": [
    {
     "name": "stdout",
     "output_type": "stream",
     "text": [
      "country\n",
      "Albania                    1601.056136\n",
      "Austria                    6137.076492\n",
      "Belgium                    8343.105127\n",
      "Bosnia and Herzegovina      973.533195\n",
      "Bulgaria                   2444.286648\n",
      "Croatia                    3119.236520\n",
      "Czech Republic             6876.140250\n",
      "Denmark                    9692.385245\n",
      "Finland                    6424.519071\n",
      "France                     7029.809327\n",
      "Germany                    7144.114393\n",
      "Greece                     3530.690067\n",
      "Hungary                    5263.673816\n",
      "Iceland                    7267.688428\n",
      "Ireland                    5210.280328\n",
      "Italy                      4931.404155\n",
      "Montenegro                 2647.585601\n",
      "Netherlands                8941.571858\n",
      "Norway                    10095.421720\n",
      "Poland                     4029.329699\n",
      "Portugal                   3068.319867\n",
      "Romania                    3144.613186\n",
      "Serbia                     3581.459448\n",
      "Slovak Republic            5074.659104\n",
      "Slovenia                   4215.041741\n",
      "Spain                      3834.034742\n",
      "Sweden                     8527.844662\n",
      "Switzerland               14734.232750\n",
      "Turkey                     1969.100980\n",
      "United Kingdom             9979.508487\n",
      "Name: gdpPercap_1952, dtype: float64\n"
     ]
    }
   ],
   "source": [
    "print(data.loc[:, \"gdpPercap_1952\"])\n",
    "# Would get the same result printing data[\"gdpPercap_1952\"].\n",
    "# Would get the same result printing data.gdpPercap_1952 since it's a column name."
   ]
  },
  {
   "cell_type": "code",
   "execution_count": 35,
   "metadata": {},
   "outputs": [
    {
     "name": "stdout",
     "output_type": "stream",
     "text": [
      "             gdpPercap_1962  gdpPercap_1967  gdpPercap_1972\n",
      "country                                                    \n",
      "Italy           8243.582340    10022.401310    12269.273780\n",
      "Montenegro      4649.593785     5907.850937     7778.414017\n",
      "Netherlands    12790.849560    15363.251360    18794.745670\n",
      "Norway         13450.401510    16361.876470    18965.055510\n",
      "Poland          5338.752143     6557.152776     8006.506993\n"
     ]
    }
   ],
   "source": [
    "# Select multiple columns or rows using DataFrame.loc and a named slice.\n",
    "print(data.loc['Italy':'Poland', 'gdpPercap_1962':'gdpPercap_1972'])"
   ]
  },
  {
   "cell_type": "code",
   "execution_count": 34,
   "metadata": {},
   "outputs": [
    {
     "name": "stdout",
     "output_type": "stream",
     "text": [
      "gdpPercap_1962    13450.40151\n",
      "gdpPercap_1967    16361.87647\n",
      "gdpPercap_1972    18965.05551\n",
      "dtype: float64\n"
     ]
    }
   ],
   "source": [
    "# Results of slicing can be used in further operations.\n",
    "print(data.loc['Italy':'Poland', 'gdpPercap_1962':'gdpPercap_1972'].max())"
   ]
  },
  {
   "cell_type": "code",
   "execution_count": 33,
   "metadata": {},
   "outputs": [
    {
     "name": "stdout",
     "output_type": "stream",
     "text": [
      "gdpPercap_1962    4649.593785\n",
      "gdpPercap_1967    5907.850937\n",
      "gdpPercap_1972    7778.414017\n",
      "dtype: float64\n"
     ]
    }
   ],
   "source": [
    "print(data.loc['Italy':'Poland', 'gdpPercap_1962':'gdpPercap_1972'].min())"
   ]
  },
  {
   "cell_type": "code",
   "execution_count": 36,
   "metadata": {},
   "outputs": [
    {
     "name": "stdout",
     "output_type": "stream",
     "text": [
      "Subset of data:\n",
      "              gdpPercap_1962  gdpPercap_1967  gdpPercap_1972\n",
      "country                                                    \n",
      "Italy           8243.582340    10022.401310    12269.273780\n",
      "Montenegro      4649.593785     5907.850937     7778.414017\n",
      "Netherlands    12790.849560    15363.251360    18794.745670\n",
      "Norway         13450.401510    16361.876470    18965.055510\n",
      "Poland          5338.752143     6557.152776     8006.506993\n",
      "\n",
      "Where are values large?\n",
      "              gdpPercap_1962  gdpPercap_1967  gdpPercap_1972\n",
      "country                                                    \n",
      "Italy                 False            True            True\n",
      "Montenegro            False           False           False\n",
      "Netherlands            True            True            True\n",
      "Norway                 True            True            True\n",
      "Poland                False           False           False\n"
     ]
    }
   ],
   "source": [
    "# Use comparisons to select data based on value.\n",
    "# Use a subset of data to keep output readable.\n",
    "data = pandas.read_csv('data/gapminder_gdp_europe.csv', index_col='country')\n",
    "subset = data.loc['Italy':'Poland', 'gdpPercap_1962':'gdpPercap_1972']\n",
    "print('Subset of data:\\n', subset)\n",
    "\n",
    "# Which values were greater than 10000?\n",
    "print('\\nWhere are values large?\\n', subset > 10000)"
   ]
  },
  {
   "cell_type": "code",
   "execution_count": 37,
   "metadata": {},
   "outputs": [
    {
     "name": "stdout",
     "output_type": "stream",
     "text": [
      "             gdpPercap_1962  gdpPercap_1967  gdpPercap_1972\n",
      "country                                                    \n",
      "Italy                   NaN     10022.40131     12269.27378\n",
      "Montenegro              NaN             NaN             NaN\n",
      "Netherlands     12790.84956     15363.25136     18794.74567\n",
      "Norway          13450.40151     16361.87647     18965.05551\n",
      "Poland                  NaN             NaN             NaN\n"
     ]
    }
   ],
   "source": [
    "# Select values or NaN using a Boolean mask.\n",
    "mask = subset > 10000\n",
    "print(subset[mask])"
   ]
  },
  {
   "cell_type": "code",
   "execution_count": 38,
   "metadata": {},
   "outputs": [
    {
     "name": "stdout",
     "output_type": "stream",
     "text": [
      "       gdpPercap_1962  gdpPercap_1967  gdpPercap_1972\n",
      "count        2.000000        3.000000        3.000000\n",
      "mean     13120.625535    13915.843047    16676.358320\n",
      "std        466.373656     3408.589070     3817.597015\n",
      "min      12790.849560    10022.401310    12269.273780\n",
      "25%      12955.737547    12692.826335    15532.009725\n",
      "50%      13120.625535    15363.251360    18794.745670\n",
      "75%      13285.513523    15862.563915    18879.900590\n",
      "max      13450.401510    16361.876470    18965.055510\n"
     ]
    }
   ],
   "source": [
    "# Useful because NaNs are ignored by operations like max, min, average, etc.\n",
    "print(subset[subset > 10000].describe())"
   ]
  },
  {
   "cell_type": "code",
   "execution_count": 39,
   "metadata": {},
   "outputs": [
    {
     "data": {
      "text/plain": [
       "country\n",
       "Albania                   0.000000\n",
       "Austria                   1.000000\n",
       "Belgium                   1.000000\n",
       "Bosnia and Herzegovina    0.000000\n",
       "Bulgaria                  0.000000\n",
       "Croatia                   0.000000\n",
       "Czech Republic            0.500000\n",
       "Denmark                   1.000000\n",
       "Finland                   1.000000\n",
       "France                    1.000000\n",
       "Germany                   1.000000\n",
       "Greece                    0.333333\n",
       "Hungary                   0.000000\n",
       "Iceland                   1.000000\n",
       "Ireland                   0.333333\n",
       "Italy                     0.500000\n",
       "Montenegro                0.000000\n",
       "Netherlands               1.000000\n",
       "Norway                    1.000000\n",
       "Poland                    0.000000\n",
       "Portugal                  0.000000\n",
       "Romania                   0.000000\n",
       "Serbia                    0.000000\n",
       "Slovak Republic           0.000000\n",
       "Slovenia                  0.333333\n",
       "Spain                     0.333333\n",
       "Sweden                    1.000000\n",
       "Switzerland               1.000000\n",
       "Turkey                    0.000000\n",
       "United Kingdom            1.000000\n",
       "dtype: float64"
      ]
     },
     "execution_count": 39,
     "metadata": {},
     "output_type": "execute_result"
    }
   ],
   "source": [
    "# Select-Apply-Combine operations.\n",
    "mask_higher = data.apply(lambda x:x>x.mean())\n",
    "wealth_score = mask_higher.aggregate('sum',axis=1)/len(data.columns)\n",
    "wealth_score"
   ]
  },
  {
   "cell_type": "code",
   "execution_count": 40,
   "metadata": {},
   "outputs": [
    {
     "data": {
      "text/html": [
       "<div>\n",
       "<style>\n",
       "    .dataframe thead tr:only-child th {\n",
       "        text-align: right;\n",
       "    }\n",
       "\n",
       "    .dataframe thead th {\n",
       "        text-align: left;\n",
       "    }\n",
       "\n",
       "    .dataframe tbody tr th {\n",
       "        vertical-align: top;\n",
       "    }\n",
       "</style>\n",
       "<table border=\"1\" class=\"dataframe\">\n",
       "  <thead>\n",
       "    <tr style=\"text-align: right;\">\n",
       "      <th></th>\n",
       "      <th>gdpPercap_1952</th>\n",
       "      <th>gdpPercap_1957</th>\n",
       "      <th>gdpPercap_1962</th>\n",
       "      <th>gdpPercap_1967</th>\n",
       "      <th>gdpPercap_1972</th>\n",
       "      <th>gdpPercap_1977</th>\n",
       "      <th>gdpPercap_1982</th>\n",
       "      <th>gdpPercap_1987</th>\n",
       "      <th>gdpPercap_1992</th>\n",
       "      <th>gdpPercap_1997</th>\n",
       "      <th>gdpPercap_2002</th>\n",
       "      <th>gdpPercap_2007</th>\n",
       "    </tr>\n",
       "  </thead>\n",
       "  <tbody>\n",
       "    <tr>\n",
       "      <th>0.000000</th>\n",
       "      <td>36916.854200</td>\n",
       "      <td>46110.918793</td>\n",
       "      <td>56850.065437</td>\n",
       "      <td>71324.848786</td>\n",
       "      <td>88569.346898</td>\n",
       "      <td>104459.358438</td>\n",
       "      <td>113553.768507</td>\n",
       "      <td>119649.599409</td>\n",
       "      <td>92380.047256</td>\n",
       "      <td>103772.937598</td>\n",
       "      <td>118590.929863</td>\n",
       "      <td>149577.357928</td>\n",
       "    </tr>\n",
       "    <tr>\n",
       "      <th>0.333333</th>\n",
       "      <td>16790.046878</td>\n",
       "      <td>20942.456800</td>\n",
       "      <td>25744.935321</td>\n",
       "      <td>33567.667670</td>\n",
       "      <td>45277.839976</td>\n",
       "      <td>53860.456750</td>\n",
       "      <td>59679.634020</td>\n",
       "      <td>64436.912960</td>\n",
       "      <td>67918.093220</td>\n",
       "      <td>80876.051580</td>\n",
       "      <td>102086.795210</td>\n",
       "      <td>122803.729520</td>\n",
       "    </tr>\n",
       "    <tr>\n",
       "      <th>0.500000</th>\n",
       "      <td>11807.544405</td>\n",
       "      <td>14505.000150</td>\n",
       "      <td>18380.449470</td>\n",
       "      <td>21421.846200</td>\n",
       "      <td>25377.727380</td>\n",
       "      <td>29056.145370</td>\n",
       "      <td>31914.712050</td>\n",
       "      <td>35517.678220</td>\n",
       "      <td>36310.666080</td>\n",
       "      <td>40723.538700</td>\n",
       "      <td>45564.308390</td>\n",
       "      <td>51403.028210</td>\n",
       "    </tr>\n",
       "    <tr>\n",
       "      <th>1.000000</th>\n",
       "      <td>104317.277560</td>\n",
       "      <td>127332.008735</td>\n",
       "      <td>149989.154201</td>\n",
       "      <td>178000.350040</td>\n",
       "      <td>215162.343140</td>\n",
       "      <td>241143.412730</td>\n",
       "      <td>263388.781960</td>\n",
       "      <td>296825.131210</td>\n",
       "      <td>315238.235970</td>\n",
       "      <td>346930.926170</td>\n",
       "      <td>385109.939210</td>\n",
       "      <td>427850.333420</td>\n",
       "    </tr>\n",
       "  </tbody>\n",
       "</table>\n",
       "</div>"
      ],
      "text/plain": [
       "          gdpPercap_1952  gdpPercap_1957  gdpPercap_1962  gdpPercap_1967  \\\n",
       "0.000000    36916.854200    46110.918793    56850.065437    71324.848786   \n",
       "0.333333    16790.046878    20942.456800    25744.935321    33567.667670   \n",
       "0.500000    11807.544405    14505.000150    18380.449470    21421.846200   \n",
       "1.000000   104317.277560   127332.008735   149989.154201   178000.350040   \n",
       "\n",
       "          gdpPercap_1972  gdpPercap_1977  gdpPercap_1982  gdpPercap_1987  \\\n",
       "0.000000    88569.346898   104459.358438   113553.768507   119649.599409   \n",
       "0.333333    45277.839976    53860.456750    59679.634020    64436.912960   \n",
       "0.500000    25377.727380    29056.145370    31914.712050    35517.678220   \n",
       "1.000000   215162.343140   241143.412730   263388.781960   296825.131210   \n",
       "\n",
       "          gdpPercap_1992  gdpPercap_1997  gdpPercap_2002  gdpPercap_2007  \n",
       "0.000000    92380.047256   103772.937598   118590.929863   149577.357928  \n",
       "0.333333    67918.093220    80876.051580   102086.795210   122803.729520  \n",
       "0.500000    36310.666080    40723.538700    45564.308390    51403.028210  \n",
       "1.000000   315238.235970   346930.926170   385109.939210   427850.333420  "
      ]
     },
     "execution_count": 40,
     "metadata": {},
     "output_type": "execute_result"
    }
   ],
   "source": [
    "# Sum their financial contribution across the years.\n",
    "data.groupby(wealth_score).sum()"
   ]
  },
  {
   "cell_type": "code",
   "execution_count": 41,
   "metadata": {},
   "outputs": [
    {
     "name": "stdout",
     "output_type": "stream",
     "text": [
      "9786.534714\n"
     ]
    }
   ],
   "source": [
    "# Find the Per Capita GDP of Serbia\n",
    "print(data.loc['Serbia', 'gdpPercap_2007'])"
   ]
  },
  {
   "cell_type": "code",
   "execution_count": 43,
   "metadata": {
    "collapsed": true
   },
   "outputs": [],
   "source": [
    "first = pandas.read_csv('data/gapminder_all.csv', index_col='country')\n",
    "second = first[first['continent'] == 'Americas']\n",
    "third = second.drop('Puerto Rico')\n",
    "fourth = third.drop('continent', axis = 1)\n",
    "fourth.to_csv('result.csv')"
   ]
  },
  {
   "cell_type": "code",
   "execution_count": 45,
   "metadata": {},
   "outputs": [
    {
     "name": "stdout",
     "output_type": "stream",
     "text": [
      "Help on method idxmin in module pandas.core.frame:\n",
      "\n",
      "idxmin(axis=0, skipna=True) method of pandas.core.frame.DataFrame instance\n",
      "    Return index of first occurrence of minimum over requested axis.\n",
      "    NA/null values are excluded.\n",
      "    \n",
      "    Parameters\n",
      "    ----------\n",
      "    axis : {0 or 'index', 1 or 'columns'}, default 0\n",
      "        0 or 'index' for row-wise, 1 or 'columns' for column-wise\n",
      "    skipna : boolean, default True\n",
      "        Exclude NA/null values. If an entire row/column is NA, the result\n",
      "        will be NA\n",
      "    \n",
      "    Returns\n",
      "    -------\n",
      "    idxmin : Series\n",
      "    \n",
      "    Notes\n",
      "    -----\n",
      "    This method is the DataFrame version of ``ndarray.argmin``.\n",
      "    \n",
      "    See Also\n",
      "    --------\n",
      "    Series.idxmin\n",
      "\n"
     ]
    }
   ],
   "source": [
    "help(data.idxmin)"
   ]
  },
  {
   "cell_type": "code",
   "execution_count": 47,
   "metadata": {},
   "outputs": [
    {
     "name": "stdout",
     "output_type": "stream",
     "text": [
      "gdpPercap_1952    Bosnia and Herzegovina\n",
      "gdpPercap_1957    Bosnia and Herzegovina\n",
      "gdpPercap_1962    Bosnia and Herzegovina\n",
      "gdpPercap_1967    Bosnia and Herzegovina\n",
      "gdpPercap_1972    Bosnia and Herzegovina\n",
      "gdpPercap_1977    Bosnia and Herzegovina\n",
      "gdpPercap_1982                   Albania\n",
      "gdpPercap_1987                   Albania\n",
      "gdpPercap_1992                   Albania\n",
      "gdpPercap_1997                   Albania\n",
      "gdpPercap_2002                   Albania\n",
      "gdpPercap_2007                   Albania\n",
      "dtype: object\n",
      "gdpPercap_1952    Switzerland\n",
      "gdpPercap_1957    Switzerland\n",
      "gdpPercap_1962    Switzerland\n",
      "gdpPercap_1967    Switzerland\n",
      "gdpPercap_1972    Switzerland\n",
      "gdpPercap_1977    Switzerland\n",
      "gdpPercap_1982    Switzerland\n",
      "gdpPercap_1987         Norway\n",
      "gdpPercap_1992         Norway\n",
      "gdpPercap_1997         Norway\n",
      "gdpPercap_2002         Norway\n",
      "gdpPercap_2007         Norway\n",
      "dtype: object\n"
     ]
    }
   ],
   "source": [
    "data = pandas.read_csv('data/gapminder_gdp_europe.csv', index_col='country')\n",
    "# idxmin will return the index value corresponding to each column's minimum.\n",
    "# idxmax will do the same for each column's maximum value.\n",
    "print(data.idxmin())\n",
    "print(data.idxmax())"
   ]
  },
  {
   "cell_type": "code",
   "execution_count": 49,
   "metadata": {},
   "outputs": [
    {
     "data": {
      "text/plain": [
       "country\n",
       "Albania                    3630.880722\n",
       "Austria                   21597.083620\n",
       "Belgium                   20979.845890\n",
       "Bosnia and Herzegovina     4126.613157\n",
       "Bulgaria                   8224.191647\n",
       "Croatia                   13221.821840\n",
       "Czech Republic            15377.228550\n",
       "Denmark                   21688.040480\n",
       "Finland                   18533.157610\n",
       "France                    20293.897460\n",
       "Germany                   22031.532740\n",
       "Greece                    15268.420890\n",
       "Hungary                   12545.990660\n",
       "Iceland                   23269.607500\n",
       "Ireland                   12618.321410\n",
       "Italy                     16537.483500\n",
       "Montenegro                11222.587620\n",
       "Netherlands               21399.460460\n",
       "Norway                    26298.635310\n",
       "Poland                     8451.531004\n",
       "Portugal                  11753.842910\n",
       "Romania                    9605.314053\n",
       "Serbia                    15181.092700\n",
       "Slovak Republic           11348.545850\n",
       "Slovenia                  17866.721750\n",
       "Spain                     13926.169970\n",
       "Sweden                    20667.381250\n",
       "Switzerland               28397.715120\n",
       "Turkey                     4241.356344\n",
       "United Kingdom            18232.424520\n",
       "Name: gdpPercap_1982, dtype: float64"
      ]
     },
     "execution_count": 49,
     "metadata": {},
     "output_type": "execute_result"
    }
   ],
   "source": [
    "# GDP per capita for all countries in 1982.\n",
    "data['gdpPercap_1982']"
   ]
  },
  {
   "cell_type": "code",
   "execution_count": 52,
   "metadata": {},
   "outputs": [
    {
     "data": {
      "text/plain": [
       "gdpPercap_1952     9692.385245\n",
       "gdpPercap_1957    11099.659350\n",
       "gdpPercap_1962    13583.313510\n",
       "gdpPercap_1967    15937.211230\n",
       "gdpPercap_1972    18866.207210\n",
       "gdpPercap_1977    20422.901500\n",
       "gdpPercap_1982    21688.040480\n",
       "gdpPercap_1987    25116.175810\n",
       "gdpPercap_1992    26406.739850\n",
       "gdpPercap_1997    29804.345670\n",
       "gdpPercap_2002    32166.500060\n",
       "gdpPercap_2007    35278.418740\n",
       "Name: Denmark, dtype: float64"
      ]
     },
     "execution_count": 52,
     "metadata": {},
     "output_type": "execute_result"
    }
   ],
   "source": [
    "# GDP per capita for Denmark for all years.\n",
    "data.loc['Denmark', :]"
   ]
  },
  {
   "cell_type": "code",
   "execution_count": 53,
   "metadata": {},
   "outputs": [
    {
     "data": {
      "text/html": [
       "<div>\n",
       "<style>\n",
       "    .dataframe thead tr:only-child th {\n",
       "        text-align: right;\n",
       "    }\n",
       "\n",
       "    .dataframe thead th {\n",
       "        text-align: left;\n",
       "    }\n",
       "\n",
       "    .dataframe tbody tr th {\n",
       "        vertical-align: top;\n",
       "    }\n",
       "</style>\n",
       "<table border=\"1\" class=\"dataframe\">\n",
       "  <thead>\n",
       "    <tr style=\"text-align: right;\">\n",
       "      <th></th>\n",
       "      <th>gdpPercap_1987</th>\n",
       "      <th>gdpPercap_1992</th>\n",
       "      <th>gdpPercap_1997</th>\n",
       "      <th>gdpPercap_2002</th>\n",
       "      <th>gdpPercap_2007</th>\n",
       "    </tr>\n",
       "    <tr>\n",
       "      <th>country</th>\n",
       "      <th></th>\n",
       "      <th></th>\n",
       "      <th></th>\n",
       "      <th></th>\n",
       "      <th></th>\n",
       "    </tr>\n",
       "  </thead>\n",
       "  <tbody>\n",
       "    <tr>\n",
       "      <th>Albania</th>\n",
       "      <td>3738.932735</td>\n",
       "      <td>2497.437901</td>\n",
       "      <td>3193.054604</td>\n",
       "      <td>4604.211737</td>\n",
       "      <td>5937.029526</td>\n",
       "    </tr>\n",
       "    <tr>\n",
       "      <th>Austria</th>\n",
       "      <td>23687.826070</td>\n",
       "      <td>27042.018680</td>\n",
       "      <td>29095.920660</td>\n",
       "      <td>32417.607690</td>\n",
       "      <td>36126.492700</td>\n",
       "    </tr>\n",
       "    <tr>\n",
       "      <th>Belgium</th>\n",
       "      <td>22525.563080</td>\n",
       "      <td>25575.570690</td>\n",
       "      <td>27561.196630</td>\n",
       "      <td>30485.883750</td>\n",
       "      <td>33692.605080</td>\n",
       "    </tr>\n",
       "    <tr>\n",
       "      <th>Bosnia and Herzegovina</th>\n",
       "      <td>4314.114757</td>\n",
       "      <td>2546.781445</td>\n",
       "      <td>4766.355904</td>\n",
       "      <td>6018.975239</td>\n",
       "      <td>7446.298803</td>\n",
       "    </tr>\n",
       "    <tr>\n",
       "      <th>Bulgaria</th>\n",
       "      <td>8239.854824</td>\n",
       "      <td>6302.623438</td>\n",
       "      <td>5970.388760</td>\n",
       "      <td>7696.777725</td>\n",
       "      <td>10680.792820</td>\n",
       "    </tr>\n",
       "    <tr>\n",
       "      <th>Croatia</th>\n",
       "      <td>13822.583940</td>\n",
       "      <td>8447.794873</td>\n",
       "      <td>9875.604515</td>\n",
       "      <td>11628.388950</td>\n",
       "      <td>14619.222720</td>\n",
       "    </tr>\n",
       "    <tr>\n",
       "      <th>Czech Republic</th>\n",
       "      <td>16310.443400</td>\n",
       "      <td>14297.021220</td>\n",
       "      <td>16048.514240</td>\n",
       "      <td>17596.210220</td>\n",
       "      <td>22833.308510</td>\n",
       "    </tr>\n",
       "    <tr>\n",
       "      <th>Denmark</th>\n",
       "      <td>25116.175810</td>\n",
       "      <td>26406.739850</td>\n",
       "      <td>29804.345670</td>\n",
       "      <td>32166.500060</td>\n",
       "      <td>35278.418740</td>\n",
       "    </tr>\n",
       "    <tr>\n",
       "      <th>Finland</th>\n",
       "      <td>21141.012230</td>\n",
       "      <td>20647.164990</td>\n",
       "      <td>23723.950200</td>\n",
       "      <td>28204.590570</td>\n",
       "      <td>33207.084400</td>\n",
       "    </tr>\n",
       "    <tr>\n",
       "      <th>France</th>\n",
       "      <td>22066.442140</td>\n",
       "      <td>24703.796150</td>\n",
       "      <td>25889.784870</td>\n",
       "      <td>28926.032340</td>\n",
       "      <td>30470.016700</td>\n",
       "    </tr>\n",
       "    <tr>\n",
       "      <th>Germany</th>\n",
       "      <td>24639.185660</td>\n",
       "      <td>26505.303170</td>\n",
       "      <td>27788.884160</td>\n",
       "      <td>30035.801980</td>\n",
       "      <td>32170.374420</td>\n",
       "    </tr>\n",
       "    <tr>\n",
       "      <th>Greece</th>\n",
       "      <td>16120.528390</td>\n",
       "      <td>17541.496340</td>\n",
       "      <td>18747.698140</td>\n",
       "      <td>22514.254800</td>\n",
       "      <td>27538.411880</td>\n",
       "    </tr>\n",
       "    <tr>\n",
       "      <th>Hungary</th>\n",
       "      <td>12986.479980</td>\n",
       "      <td>10535.628550</td>\n",
       "      <td>11712.776800</td>\n",
       "      <td>14843.935560</td>\n",
       "      <td>18008.944440</td>\n",
       "    </tr>\n",
       "    <tr>\n",
       "      <th>Iceland</th>\n",
       "      <td>26923.206280</td>\n",
       "      <td>25144.392010</td>\n",
       "      <td>28061.099660</td>\n",
       "      <td>31163.201960</td>\n",
       "      <td>36180.789190</td>\n",
       "    </tr>\n",
       "    <tr>\n",
       "      <th>Ireland</th>\n",
       "      <td>13872.866520</td>\n",
       "      <td>17558.815550</td>\n",
       "      <td>24521.947130</td>\n",
       "      <td>34077.049390</td>\n",
       "      <td>40675.996350</td>\n",
       "    </tr>\n",
       "    <tr>\n",
       "      <th>Italy</th>\n",
       "      <td>19207.234820</td>\n",
       "      <td>22013.644860</td>\n",
       "      <td>24675.024460</td>\n",
       "      <td>27968.098170</td>\n",
       "      <td>28569.719700</td>\n",
       "    </tr>\n",
       "    <tr>\n",
       "      <th>Montenegro</th>\n",
       "      <td>11732.510170</td>\n",
       "      <td>7003.339037</td>\n",
       "      <td>6465.613349</td>\n",
       "      <td>6557.194282</td>\n",
       "      <td>9253.896111</td>\n",
       "    </tr>\n",
       "    <tr>\n",
       "      <th>Netherlands</th>\n",
       "      <td>23651.323610</td>\n",
       "      <td>26790.949610</td>\n",
       "      <td>30246.130630</td>\n",
       "      <td>33724.757780</td>\n",
       "      <td>36797.933320</td>\n",
       "    </tr>\n",
       "    <tr>\n",
       "      <th>Norway</th>\n",
       "      <td>31540.974800</td>\n",
       "      <td>33965.661150</td>\n",
       "      <td>41283.164330</td>\n",
       "      <td>44683.975250</td>\n",
       "      <td>49357.190170</td>\n",
       "    </tr>\n",
       "    <tr>\n",
       "      <th>Poland</th>\n",
       "      <td>9082.351172</td>\n",
       "      <td>7738.881247</td>\n",
       "      <td>10159.583680</td>\n",
       "      <td>12002.239080</td>\n",
       "      <td>15389.924680</td>\n",
       "    </tr>\n",
       "    <tr>\n",
       "      <th>Portugal</th>\n",
       "      <td>13039.308760</td>\n",
       "      <td>16207.266630</td>\n",
       "      <td>17641.031560</td>\n",
       "      <td>19970.907870</td>\n",
       "      <td>20509.647770</td>\n",
       "    </tr>\n",
       "    <tr>\n",
       "      <th>Romania</th>\n",
       "      <td>9696.273295</td>\n",
       "      <td>6598.409903</td>\n",
       "      <td>7346.547557</td>\n",
       "      <td>7885.360081</td>\n",
       "      <td>10808.475610</td>\n",
       "    </tr>\n",
       "    <tr>\n",
       "      <th>Serbia</th>\n",
       "      <td>15870.878510</td>\n",
       "      <td>9325.068238</td>\n",
       "      <td>7914.320304</td>\n",
       "      <td>7236.075251</td>\n",
       "      <td>9786.534714</td>\n",
       "    </tr>\n",
       "    <tr>\n",
       "      <th>Slovak Republic</th>\n",
       "      <td>12037.267580</td>\n",
       "      <td>9498.467723</td>\n",
       "      <td>12126.230650</td>\n",
       "      <td>13638.778370</td>\n",
       "      <td>18678.314350</td>\n",
       "    </tr>\n",
       "    <tr>\n",
       "      <th>Slovenia</th>\n",
       "      <td>18678.534920</td>\n",
       "      <td>14214.716810</td>\n",
       "      <td>17161.107350</td>\n",
       "      <td>20660.019360</td>\n",
       "      <td>25768.257590</td>\n",
       "    </tr>\n",
       "    <tr>\n",
       "      <th>Spain</th>\n",
       "      <td>15764.983130</td>\n",
       "      <td>18603.064520</td>\n",
       "      <td>20445.298960</td>\n",
       "      <td>24835.471660</td>\n",
       "      <td>28821.063700</td>\n",
       "    </tr>\n",
       "    <tr>\n",
       "      <th>Sweden</th>\n",
       "      <td>23586.929270</td>\n",
       "      <td>23880.016830</td>\n",
       "      <td>25266.594990</td>\n",
       "      <td>29341.630930</td>\n",
       "      <td>33859.748350</td>\n",
       "    </tr>\n",
       "    <tr>\n",
       "      <th>Switzerland</th>\n",
       "      <td>30281.704590</td>\n",
       "      <td>31871.530300</td>\n",
       "      <td>32135.323010</td>\n",
       "      <td>34480.957710</td>\n",
       "      <td>37506.419070</td>\n",
       "    </tr>\n",
       "    <tr>\n",
       "      <th>Turkey</th>\n",
       "      <td>5089.043686</td>\n",
       "      <td>5678.348271</td>\n",
       "      <td>6601.429915</td>\n",
       "      <td>6508.085718</td>\n",
       "      <td>8458.276384</td>\n",
       "    </tr>\n",
       "    <tr>\n",
       "      <th>United Kingdom</th>\n",
       "      <td>21664.787670</td>\n",
       "      <td>22705.092540</td>\n",
       "      <td>26074.531360</td>\n",
       "      <td>29478.999190</td>\n",
       "      <td>33203.261280</td>\n",
       "    </tr>\n",
       "  </tbody>\n",
       "</table>\n",
       "</div>"
      ],
      "text/plain": [
       "                        gdpPercap_1987  gdpPercap_1992  gdpPercap_1997  \\\n",
       "country                                                                  \n",
       "Albania                    3738.932735     2497.437901     3193.054604   \n",
       "Austria                   23687.826070    27042.018680    29095.920660   \n",
       "Belgium                   22525.563080    25575.570690    27561.196630   \n",
       "Bosnia and Herzegovina     4314.114757     2546.781445     4766.355904   \n",
       "Bulgaria                   8239.854824     6302.623438     5970.388760   \n",
       "Croatia                   13822.583940     8447.794873     9875.604515   \n",
       "Czech Republic            16310.443400    14297.021220    16048.514240   \n",
       "Denmark                   25116.175810    26406.739850    29804.345670   \n",
       "Finland                   21141.012230    20647.164990    23723.950200   \n",
       "France                    22066.442140    24703.796150    25889.784870   \n",
       "Germany                   24639.185660    26505.303170    27788.884160   \n",
       "Greece                    16120.528390    17541.496340    18747.698140   \n",
       "Hungary                   12986.479980    10535.628550    11712.776800   \n",
       "Iceland                   26923.206280    25144.392010    28061.099660   \n",
       "Ireland                   13872.866520    17558.815550    24521.947130   \n",
       "Italy                     19207.234820    22013.644860    24675.024460   \n",
       "Montenegro                11732.510170     7003.339037     6465.613349   \n",
       "Netherlands               23651.323610    26790.949610    30246.130630   \n",
       "Norway                    31540.974800    33965.661150    41283.164330   \n",
       "Poland                     9082.351172     7738.881247    10159.583680   \n",
       "Portugal                  13039.308760    16207.266630    17641.031560   \n",
       "Romania                    9696.273295     6598.409903     7346.547557   \n",
       "Serbia                    15870.878510     9325.068238     7914.320304   \n",
       "Slovak Republic           12037.267580     9498.467723    12126.230650   \n",
       "Slovenia                  18678.534920    14214.716810    17161.107350   \n",
       "Spain                     15764.983130    18603.064520    20445.298960   \n",
       "Sweden                    23586.929270    23880.016830    25266.594990   \n",
       "Switzerland               30281.704590    31871.530300    32135.323010   \n",
       "Turkey                     5089.043686     5678.348271     6601.429915   \n",
       "United Kingdom            21664.787670    22705.092540    26074.531360   \n",
       "\n",
       "                        gdpPercap_2002  gdpPercap_2007  \n",
       "country                                                 \n",
       "Albania                    4604.211737     5937.029526  \n",
       "Austria                   32417.607690    36126.492700  \n",
       "Belgium                   30485.883750    33692.605080  \n",
       "Bosnia and Herzegovina     6018.975239     7446.298803  \n",
       "Bulgaria                   7696.777725    10680.792820  \n",
       "Croatia                   11628.388950    14619.222720  \n",
       "Czech Republic            17596.210220    22833.308510  \n",
       "Denmark                   32166.500060    35278.418740  \n",
       "Finland                   28204.590570    33207.084400  \n",
       "France                    28926.032340    30470.016700  \n",
       "Germany                   30035.801980    32170.374420  \n",
       "Greece                    22514.254800    27538.411880  \n",
       "Hungary                   14843.935560    18008.944440  \n",
       "Iceland                   31163.201960    36180.789190  \n",
       "Ireland                   34077.049390    40675.996350  \n",
       "Italy                     27968.098170    28569.719700  \n",
       "Montenegro                 6557.194282     9253.896111  \n",
       "Netherlands               33724.757780    36797.933320  \n",
       "Norway                    44683.975250    49357.190170  \n",
       "Poland                    12002.239080    15389.924680  \n",
       "Portugal                  19970.907870    20509.647770  \n",
       "Romania                    7885.360081    10808.475610  \n",
       "Serbia                     7236.075251     9786.534714  \n",
       "Slovak Republic           13638.778370    18678.314350  \n",
       "Slovenia                  20660.019360    25768.257590  \n",
       "Spain                     24835.471660    28821.063700  \n",
       "Sweden                    29341.630930    33859.748350  \n",
       "Switzerland               34480.957710    37506.419070  \n",
       "Turkey                     6508.085718     8458.276384  \n",
       "United Kingdom            29478.999190    33203.261280  "
      ]
     },
     "execution_count": 53,
     "metadata": {},
     "output_type": "execute_result"
    }
   ],
   "source": [
    "# GDP per capita for all countries for years after 1985.\n",
    "data.loc[:, 'gdpPercap_1985':]"
   ]
  },
  {
   "cell_type": "code",
   "execution_count": 54,
   "metadata": {},
   "outputs": [
    {
     "data": {
      "text/plain": [
       "country\n",
       "Albania                   3.708196\n",
       "Austria                   5.886596\n",
       "Belgium                   4.038377\n",
       "Bosnia and Herzegovina    7.648736\n",
       "Bulgaria                  4.369697\n",
       "Croatia                   4.686795\n",
       "Czech Republic            3.320658\n",
       "Denmark                   3.639808\n",
       "Finland                   5.168805\n",
       "France                    4.334402\n",
       "Germany                   4.503060\n",
       "Greece                    7.799725\n",
       "Hungary                   3.421364\n",
       "Iceland                   4.978308\n",
       "Ireland                   7.806873\n",
       "Italy                     5.793425\n",
       "Montenegro                3.495221\n",
       "Netherlands               4.115376\n",
       "Norway                    4.889067\n",
       "Poland                    3.819475\n",
       "Portugal                  6.684325\n",
       "Romania                   3.437140\n",
       "Serbia                    2.732555\n",
       "Slovak Republic           3.680703\n",
       "Slovenia                  6.113405\n",
       "Spain                     7.517163\n",
       "Sweden                    3.970493\n",
       "Switzerland               2.545529\n",
       "Turkey                    4.295502\n",
       "United Kingdom            3.327144\n",
       "dtype: float64"
      ]
     },
     "execution_count": 54,
     "metadata": {},
     "output_type": "execute_result"
    }
   ],
   "source": [
    "# GDP per capita for each country in 2007 as a multiple of GDP per capita for that country in 1952.\n",
    "data['gdpPercap_2007']/data['gdpPercap_1952']"
   ]
  },
  {
   "cell_type": "code",
   "execution_count": 56,
   "metadata": {},
   "outputs": [
    {
     "data": {
      "text/plain": [
       "<matplotlib.text.Text at 0x10c2bd4e0>"
      ]
     },
     "execution_count": 56,
     "metadata": {},
     "output_type": "execute_result"
    },
    {
     "data": {
      "image/png": "[encoded data removed]",
      "text/plain": [
       "<matplotlib.figure.Figure at 0x10b02d320>"
      ]
     },
     "metadata": {},
     "output_type": "display_data"
    }
   ],
   "source": [
    "# Creating simple plots using matplotlib.\n",
    "time = [0, 1, 2, 3]\n",
    "position = [0, 100, 200, 300]\n",
    "\n",
    "plt.plot(time, position)\n",
    "plt.xlabel('Time (hr)')\n",
    "plt.ylabel('Position (km)')"
   ]
  },
  {
   "cell_type": "code",
   "execution_count": 57,
   "metadata": {},
   "outputs": [
    {
     "data": {
      "text/plain": [
       "(array([  0.,   2.,   4.,   6.,   8.,  10.,  12.]),\n",
       " <a list of 7 Text xticklabel objects>)"
      ]
     },
     "execution_count": 57,
     "metadata": {},
     "output_type": "execute_result"
    },
    {
     "data": {
      "image/png": "[encoded data removed]",
      "text/plain": [
       "<matplotlib.figure.Figure at 0x10b02d0f0>"
      ]
     },
     "metadata": {},
     "output_type": "display_data"
    }
   ],
   "source": [
    "# Plot data directly from a Pandas dataframe.\n",
    "data = pandas.read_csv('data/gapminder_gdp_oceania.csv', index_col='country')\n",
    "data.loc['Australia'].plot()\n",
    "plt.xticks(rotation=90)"
   ]
  },
  {
   "cell_type": "code",
   "execution_count": 58,
   "metadata": {},
   "outputs": [
    {
     "data": {
      "text/plain": [
       "(array([  0.,   2.,   4.,   6.,   8.,  10.,  12.]),\n",
       " <a list of 7 Text xticklabel objects>)"
      ]
     },
     "execution_count": 58,
     "metadata": {},
     "output_type": "execute_result"
    },
    {
     "data": {
      "image/png": "[encoded data removed]",
      "text/plain": [
       "<matplotlib.figure.Figure at 0x10c48f0f0>"
      ]
     },
     "metadata": {},
     "output_type": "display_data"
    }
   ],
   "source": [
    "# Select and transform data, then plot it.\n",
    "data.T.plot()\n",
    "plt.ylabel('GDP per capita')\n",
    "plt.xticks(rotation=90)"
   ]
  },
  {
   "cell_type": "code",
   "execution_count": 59,
   "metadata": {},
   "outputs": [
    {
     "data": {
      "text/plain": [
       "<matplotlib.text.Text at 0x113b253c8>"
      ]
     },
     "execution_count": 59,
     "metadata": {},
     "output_type": "execute_result"
    },
    {
     "data": {
      "image/png": "[encoded data removed]",
      "text/plain": [
       "<matplotlib.figure.Figure at 0x10c8ff4a8>"
      ]
     },
     "metadata": {},
     "output_type": "display_data"
    }
   ],
   "source": [
    "# Many styles of plot are available.\n",
    "plt.style.use('ggplot')\n",
    "data.T.plot(kind='bar')\n",
    "plt.xticks(rotation=90)\n",
    "plt.ylabel('GDP per capita')"
   ]
  },
  {
   "cell_type": "code",
   "execution_count": 60,
   "metadata": {},
   "outputs": [
    {
     "data": {
      "text/plain": [
       "[<matplotlib.lines.Line2D at 0x113d29ac8>]"
      ]
     },
     "execution_count": 60,
     "metadata": {},
     "output_type": "execute_result"
    },
    {
     "data": {
      "image/png": "[encoded data removed]",
      "text/plain": [
       "<matplotlib.figure.Figure at 0x113cac898>"
      ]
     },
     "metadata": {},
     "output_type": "display_data"
    }
   ],
   "source": [
    "# Accumulator pattern to collect years (as character strings).\n",
    "years = []\n",
    "for col in data.columns:\n",
    "    year = col[-4:]\n",
    "    years.append(year)\n",
    "    \n",
    "# Australia data as list.\n",
    "gdp_australia = data.loc['Australia'].tolist()\n",
    "\n",
    "# Plot: 'g--' sets the line style.\n",
    "plt.plot(years, gdp_australia, 'g--')"
   ]
  },
  {
   "cell_type": "code",
   "execution_count": 61,
   "metadata": {},
   "outputs": [
    {
     "data": {
      "text/plain": [
       "<matplotlib.text.Text at 0x113edd630>"
      ]
     },
     "execution_count": 61,
     "metadata": {},
     "output_type": "execute_result"
    },
    {
     "data": {
      "image/png": "[encoded data removed]",
      "text/plain": [
       "<matplotlib.figure.Figure at 0x113da6c50>"
      ]
     },
     "metadata": {},
     "output_type": "display_data"
    }
   ],
   "source": [
    "# Can plot many sets of data together.\n",
    "# Accumulator pattern to collect years (as character strings).\n",
    "years = []\n",
    "for col in data.columns:\n",
    "    year = col[-4:]\n",
    "    years.append(year)\n",
    "    \n",
    "# Select two countries' worth of data.\n",
    "gdp_australia = data.loc['Australia']\n",
    "gdp_nz = data.loc['New Zealand']\n",
    "\n",
    "# Plot with differently-coloured markers.\n",
    "plt.plot(years, gdp_australia, 'b-', label='Australia')\n",
    "plt.plot(years, gdp_nz, 'g-', label='New Zealand')\n",
    "\n",
    "# Create legend.\n",
    "plt.legend(loc='upper left')\n",
    "plt.xlabel('Year')\n",
    "plt.ylabel('GDP per capita($)')"
   ]
  },
  {
   "cell_type": "code",
   "execution_count": 62,
   "metadata": {},
   "outputs": [
    {
     "data": {
      "text/plain": [
       "<matplotlib.collections.PathCollection at 0x113fd4278>"
      ]
     },
     "execution_count": 62,
     "metadata": {},
     "output_type": "execute_result"
    },
    {
     "data": {
      "image/png": "[encoded data removed]",
      "text/plain": [
       "<matplotlib.figure.Figure at 0x113ec1a90>"
      ]
     },
     "metadata": {},
     "output_type": "display_data"
    }
   ],
   "source": [
    "# Plot a scatter plot correlating the GDP of Australia and New Zealand.\n",
    "plt.scatter(gdp_australia, gdp_nz)"
   ]
  },
  {
   "cell_type": "code",
   "execution_count": 63,
   "metadata": {},
   "outputs": [
    {
     "data": {
      "text/plain": [
       "<matplotlib.axes._subplots.AxesSubplot at 0x11404c550>"
      ]
     },
     "execution_count": 63,
     "metadata": {},
     "output_type": "execute_result"
    },
    {
     "data": {
      "image/png": "[encoded data removed]",
      "text/plain": [
       "<matplotlib.figure.Figure at 0x1140d1c50>"
      ]
     },
     "metadata": {},
     "output_type": "display_data"
    }
   ],
   "source": [
    "# OR\n",
    "data.T.plot.scatter(x = 'Australia', y = 'New Zealand')"
   ]
  },
  {
   "cell_type": "code",
   "execution_count": 64,
   "metadata": {},
   "outputs": [
    {
     "data": {
      "text/plain": [
       "(array([  0.,   2.,   4.,   6.,   8.,  10.,  12.]),\n",
       " <a list of 7 Text xticklabel objects>)"
      ]
     },
     "execution_count": 64,
     "metadata": {},
     "output_type": "execute_result"
    },
    {
     "data": {
      "image/png": "[encoded data removed]",
      "text/plain": [
       "<matplotlib.figure.Figure at 0x114190908>"
      ]
     },
     "metadata": {},
     "output_type": "display_data"
    }
   ],
   "source": [
    "data_europe = pandas.read_csv('data/gapminder_gdp_europe.csv', index_col='country')\n",
    "data_europe.min().plot(label='min')\n",
    "data_europe.max().plot(label='max')\n",
    "plt.legend(loc='best')\n",
    "plt.xticks(rotation=90)"
   ]
  },
  {
   "cell_type": "code",
   "execution_count": 65,
   "metadata": {},
   "outputs": [
    {
     "data": {
      "text/plain": [
       "<matplotlib.axes._subplots.AxesSubplot at 0x11425d358>"
      ]
     },
     "execution_count": 65,
     "metadata": {},
     "output_type": "execute_result"
    },
    {
     "data": {
      "image/png": "[encoded data removed]",
      "text/plain": [
       "<matplotlib.figure.Figure at 0x11422c588>"
      ]
     },
     "metadata": {},
     "output_type": "display_data"
    }
   ],
   "source": [
    "data_asia = pandas.read_csv('data/gapminder_gdp_asia.csv', index_col='country')\n",
    "data_asia.describe().T.plot(kind='scatter', x='min', y='max')"
   ]
  },
  {
   "cell_type": "code",
   "execution_count": 67,
   "metadata": {},
   "outputs": [
    {
     "name": "stdout",
     "output_type": "stream",
     "text": [
      "gdpPercap_1952          Kuwait\n",
      "gdpPercap_1957          Kuwait\n",
      "gdpPercap_1962          Kuwait\n",
      "gdpPercap_1967          Kuwait\n",
      "gdpPercap_1972          Kuwait\n",
      "gdpPercap_1977          Kuwait\n",
      "gdpPercap_1982    Saudi Arabia\n",
      "gdpPercap_1987          Kuwait\n",
      "gdpPercap_1992          Kuwait\n",
      "gdpPercap_1997          Kuwait\n",
      "gdpPercap_2002       Singapore\n",
      "gdpPercap_2007          Kuwait\n",
      "dtype: object\n",
      "gdpPercap_1952    Myanmar\n",
      "gdpPercap_1957    Myanmar\n",
      "gdpPercap_1962    Myanmar\n",
      "gdpPercap_1967    Myanmar\n",
      "gdpPercap_1972    Myanmar\n",
      "gdpPercap_1977    Myanmar\n",
      "gdpPercap_1982    Myanmar\n",
      "gdpPercap_1987    Myanmar\n",
      "gdpPercap_1992    Myanmar\n",
      "gdpPercap_1997    Myanmar\n",
      "gdpPercap_2002    Myanmar\n",
      "gdpPercap_2007    Myanmar\n",
      "dtype: object\n"
     ]
    },
    {
     "data": {
      "image/png": "[encoded data removed]",
      "text/plain": [
       "<matplotlib.figure.Figure at 0x1144c60b8>"
      ]
     },
     "metadata": {},
     "output_type": "display_data"
    }
   ],
   "source": [
    "data_asia.max().plot()\n",
    "print(data_asia.idxmax())\n",
    "print(data_asia.idxmin())"
   ]
  },
  {
   "cell_type": "code",
   "execution_count": 68,
   "metadata": {},
   "outputs": [
    {
     "data": {
      "text/plain": [
       "<matplotlib.axes._subplots.AxesSubplot at 0x1144d9588>"
      ]
     },
     "execution_count": 68,
     "metadata": {},
     "output_type": "execute_result"
    },
    {
     "data": {
      "image/png": "[encoded data removed]",
      "text/plain": [
       "<matplotlib.figure.Figure at 0x11439fef0>"
      ]
     },
     "metadata": {},
     "output_type": "display_data"
    }
   ],
   "source": [
    "data_all = pandas.read_csv('data/gapminder_all.csv', index_col='country')\n",
    "data_all.plot(kind='scatter', x='gdpPercap_2007', y='lifeExp_2007', s=data_all['pop_2007']/1e6)"
   ]
  },
  {
   "cell_type": "code",
   "execution_count": null,
   "metadata": {
    "collapsed": true
   },
   "outputs": [],
   "source": []
  }
 ],
 "metadata": {
  "kernelspec": {
   "display_name": "Python 3",
   "language": "python",
   "name": "python3"
  },
  "language_info": {
   "codemirror_mode": {
    "name": "ipython",
    "version": 3
   },
   "file_extension": ".py",
   "mimetype": "text/x-python",
   "name": "python",
   "nbconvert_exporter": "python",
   "pygments_lexer": "ipython3",
   "version": "3.6.2"
  }
 },
 "nbformat": 4,
 "nbformat_minor": 2
}
